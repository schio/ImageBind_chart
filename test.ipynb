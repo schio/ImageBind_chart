{
 "cells": [
  {
   "cell_type": "code",
   "execution_count": 1,
   "metadata": {},
   "outputs": [
    {
     "name": "stderr",
     "output_type": "stream",
     "text": [
      "/opt/homebrew/Caskroom/miniforge/base/envs/imagebind/lib/python3.8/site-packages/tqdm/auto.py:21: TqdmWarning: IProgress not found. Please update jupyter and ipywidgets. See https://ipywidgets.readthedocs.io/en/stable/user_install.html\n",
      "  from .autonotebook import tqdm as notebook_tqdm\n",
      "/opt/homebrew/Caskroom/miniforge/base/envs/imagebind/lib/python3.8/site-packages/torchvision/transforms/_functional_video.py:6: UserWarning: The 'torchvision.transforms._functional_video' module is deprecated since 0.12 and will be removed in the future. Please use the 'torchvision.transforms.functional' module instead.\n",
      "  warnings.warn(\n",
      "/opt/homebrew/Caskroom/miniforge/base/envs/imagebind/lib/python3.8/site-packages/torchvision/transforms/_transforms_video.py:22: UserWarning: The 'torchvision.transforms._transforms_video' module is deprecated since 0.12 and will be removed in the future. Please use the 'torchvision.transforms' module instead.\n",
      "  warnings.warn(\n"
     ]
    },
    {
     "name": "stdout",
     "output_type": "stream",
     "text": [
      "use cpu\n"
     ]
    }
   ],
   "source": [
    "import data\n",
    "import torch\n",
    "from models import imagebind_model\n",
    "from models.imagebind_model import ModalityType\n",
    "\n",
    "text_list=[\"A dog.\", \"A car\", \"A bird\"]\n",
    "image_paths=[\".assets/dog_image.jpg\", \".assets/car_image.jpg\", \".assets/bird_image.jpg\"]\n",
    "audio_paths=[\".assets/dog_audio.wav\", \".assets/car_audio.wav\", \".assets/bird_audio.wav\"]\n",
    "\n",
    "device = \"cuda:0\" if torch.cuda.is_available() else \"cpu\" # origin code\n",
    "# device = torch.device(\"mps\") if torch.backends.mps.is_available() else \"cpu\" # use m1 code\n",
    "print(f\"use {device}\")\n",
    "\n",
    "# Instantiate model\n",
    "model = imagebind_model.imagebind_huge(pretrained=True)\n",
    "model.eval()\n",
    "model.to(device)\n",
    "\n",
    "# Load data\n",
    "inputs = {\n",
    "    ModalityType.TEXT: data.load_and_transform_text(text_list, device),\n",
    "    ModalityType.VISION: data.load_and_transform_vision_data(image_paths, device),\n",
    "    ModalityType.AUDIO: data.load_and_transform_audio_data(audio_paths, device),\n",
    "}\n",
    "\n",
    "with torch.no_grad():\n",
    "    embeddings = model(inputs)\n",
    "\n",
    "# print(\n",
    "#     \"Vision x Text: \",\n",
    "#     torch.softmax(embeddings[ModalityType.VISION] @ embeddings[ModalityType.TEXT].T, dim=-1),\n",
    "# )\n",
    "# print(\n",
    "#     \"Audio x Text: \",\n",
    "#     torch.softmax(embeddings[ModalityType.AUDIO] @ embeddings[ModalityType.TEXT].T, dim=-1),\n",
    "# )\n",
    "# print(\n",
    "#     \"Vision x Audio: \",\n",
    "#     torch.softmax(embeddings[ModalityType.VISION] @ embeddings[ModalityType.AUDIO].T, dim=-1),\n",
    "# )\n",
    "\n",
    "audio = torch.softmax(embeddings[ModalityType.VISION] @ embeddings[ModalityType.AUDIO].T, dim=-1)\n",
    "from IPython.display import Audio\n",
    "\n",
    "# Audio(audio.numpy())#, rate=audio.rate.numpy())\n"
   ]
  },
  {
   "cell_type": "code",
   "execution_count": 2,
   "metadata": {},
   "outputs": [
    {
     "ename": "ModuleNotFoundError",
     "evalue": "No module named 'tensorflow_io'",
     "output_type": "error",
     "traceback": [
      "\u001b[0;31m---------------------------------------------------------------------------\u001b[0m",
      "\u001b[0;31mModuleNotFoundError\u001b[0m                       Traceback (most recent call last)",
      "\u001b[1;32m/Users/chiohsong/Library/Mobile Documents/com~apple~CloudDocs/Documents/GitHub/ImageBind_chart/test.ipynb 셀 2\u001b[0m in \u001b[0;36m<cell line: 2>\u001b[0;34m()\u001b[0m\n\u001b[1;32m      <a href='vscode-notebook-cell:/Users/chiohsong/Library/Mobile%20Documents/com~apple~CloudDocs/Documents/GitHub/ImageBind_chart/test.ipynb#W3sZmlsZQ%3D%3D?line=0'>1</a>\u001b[0m \u001b[39m# import tensorflow as tf\u001b[39;00m\n\u001b[0;32m----> <a href='vscode-notebook-cell:/Users/chiohsong/Library/Mobile%20Documents/com~apple~CloudDocs/Documents/GitHub/ImageBind_chart/test.ipynb#W3sZmlsZQ%3D%3D?line=1'>2</a>\u001b[0m \u001b[39mimport\u001b[39;00m \u001b[39mtensorflow_io\u001b[39;00m \u001b[39mas\u001b[39;00m \u001b[39mtfio\u001b[39;00m\n\u001b[1;32m      <a href='vscode-notebook-cell:/Users/chiohsong/Library/Mobile%20Documents/com~apple~CloudDocs/Documents/GitHub/ImageBind_chart/test.ipynb#W3sZmlsZQ%3D%3D?line=3'>4</a>\u001b[0m \u001b[39m# audio_ = tfio.audio.AudioIOTensor(audio)\u001b[39;00m\n",
      "\u001b[0;31mModuleNotFoundError\u001b[0m: No module named 'tensorflow_io'"
     ]
    }
   ],
   "source": [
    "# import tensorflow as tf\n",
    "import tensorflow_io as tfio\n",
    "\n",
    "# audio_ = tfio.audio.AudioIOTensor(audio)\n"
   ]
  },
  {
   "cell_type": "code",
   "execution_count": 5,
   "metadata": {},
   "outputs": [
    {
     "ename": "AttributeError",
     "evalue": "'Tensor' object has no attribute 'rate'",
     "output_type": "error",
     "traceback": [
      "\u001b[0;31m---------------------------------------------------------------------------\u001b[0m",
      "\u001b[0;31mAttributeError\u001b[0m                            Traceback (most recent call last)",
      "\u001b[1;32m/Users/chiohsong/Library/Mobile Documents/com~apple~CloudDocs/Documents/GitHub/ImageBind_chart/test.ipynb 셀 2\u001b[0m in \u001b[0;36m<cell line: 2>\u001b[0;34m()\u001b[0m\n\u001b[1;32m      <a href='vscode-notebook-cell:/Users/chiohsong/Library/Mobile%20Documents/com~apple~CloudDocs/Documents/GitHub/ImageBind_chart/test.ipynb#W2sZmlsZQ%3D%3D?line=0'>1</a>\u001b[0m audio\u001b[39m.\u001b[39mnumpy()\n\u001b[0;32m----> <a href='vscode-notebook-cell:/Users/chiohsong/Library/Mobile%20Documents/com~apple~CloudDocs/Documents/GitHub/ImageBind_chart/test.ipynb#W2sZmlsZQ%3D%3D?line=1'>2</a>\u001b[0m audio\u001b[39m.\u001b[39;49mrate\n",
      "\u001b[0;31mAttributeError\u001b[0m: 'Tensor' object has no attribute 'rate'"
     ]
    }
   ],
   "source": [
    "audio.numpy()\n",
    "audio_.rate"
   ]
  }
 ],
 "metadata": {
  "kernelspec": {
   "display_name": "imagebind",
   "language": "python",
   "name": "python3"
  },
  "language_info": {
   "codemirror_mode": {
    "name": "ipython",
    "version": 3
   },
   "file_extension": ".py",
   "mimetype": "text/x-python",
   "name": "python",
   "nbconvert_exporter": "python",
   "pygments_lexer": "ipython3",
   "version": "3.8.16"
  },
  "orig_nbformat": 4
 },
 "nbformat": 4,
 "nbformat_minor": 2
}
